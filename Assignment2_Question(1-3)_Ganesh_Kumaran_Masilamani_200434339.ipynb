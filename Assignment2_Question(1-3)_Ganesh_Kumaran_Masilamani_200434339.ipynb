{
  "nbformat": 4,
  "nbformat_minor": 0,
  "metadata": {
    "kernelspec": {
      "display_name": "Python 3",
      "language": "python",
      "name": "python3"
    },
    "language_info": {
      "codemirror_mode": {
        "name": "ipython",
        "version": 3
      },
      "file_extension": ".py",
      "mimetype": "text/x-python",
      "name": "python",
      "nbconvert_exporter": "python",
      "pygments_lexer": "ipython3",
      "version": "3.8.3"
    },
    "colab": {
      "name": "Ganesh Kumaran Masilamani-(200434339)-1-3.ipynb",
      "provenance": [],
      "toc_visible": true
    }
  },
  "cells": [
    {
      "cell_type": "markdown",
      "metadata": {
        "id": "CB1ItACIlU4s"
      },
      "source": [
        "# Assignment 2: CRF sequence tagging for Move Queries"
      ]
    },
    {
      "cell_type": "code",
      "metadata": {
        "id": "qmbCrG88lU4z"
      },
      "source": [
        "#libraries imported\n",
        "import os\n",
        "import sys\n",
        "import pandas as pd\n",
        "from copy import deepcopy\n",
        "from collections import Counter\n",
        "from nltk.tag import CRFTagger\n",
        "\n",
        "from sklearn.metrics import confusion_matrix\n",
        "from sklearn.metrics import precision_recall_fscore_support\n",
        "from sklearn.metrics import classification_report\n",
        "\n",
        "from matplotlib import pyplot as plt\n",
        "import numpy as np\n",
        "\n",
        "import re\n",
        "import unicodedata"
      ],
      "execution_count": 33,
      "outputs": []
    },
    {
      "cell_type": "code",
      "metadata": {
        "id": "SvfmXBTUmIXc",
        "outputId": "96802dc0-c9bf-498e-f63a-5a22acfb8069",
        "colab": {
          "base_uri": "https://localhost:8080/"
        }
      },
      "source": [
        "#installing python-crfsuite \n",
        "!pip install nltk python-crfsuite scikit-learn\n",
        "import pycrfsuite"
      ],
      "execution_count": 34,
      "outputs": [
        {
          "output_type": "stream",
          "text": [
            "Requirement already satisfied: nltk in /usr/local/lib/python3.6/dist-packages (3.2.5)\n",
            "Requirement already satisfied: python-crfsuite in /usr/local/lib/python3.6/dist-packages (0.9.7)\n",
            "Requirement already satisfied: scikit-learn in /usr/local/lib/python3.6/dist-packages (0.22.2.post1)\n",
            "Requirement already satisfied: six in /usr/local/lib/python3.6/dist-packages (from nltk) (1.15.0)\n",
            "Requirement already satisfied: joblib>=0.11 in /usr/local/lib/python3.6/dist-packages (from scikit-learn) (0.17.0)\n",
            "Requirement already satisfied: numpy>=1.11.0 in /usr/local/lib/python3.6/dist-packages (from scikit-learn) (1.18.5)\n",
            "Requirement already satisfied: scipy>=0.17.0 in /usr/local/lib/python3.6/dist-packages (from scikit-learn) (1.4.1)\n"
          ],
          "name": "stdout"
        }
      ]
    },
    {
      "cell_type": "code",
      "metadata": {
        "id": "GJxv_dcPlU5D"
      },
      "source": [
        "def get_raw_data_from_bio_file(fpath):\n",
        "    \"\"\"A simple function to read in from a one-word-per-line BIO\n",
        "    (Beginning, Inside, Outside) tagged corpus, tab separated\n",
        "    and each example sentence/text separated with a blank line.\n",
        "    The data is already tokenized in a simple way.\n",
        "    e.g.:\n",
        "    \n",
        "    O\ta\n",
        "    O\tgreat\n",
        "    O\tlunch\n",
        "    O\tspot\n",
        "    O\tbut\n",
        "    B-Hours\topen\n",
        "    I-Hours\ttill\n",
        "    I-Hours\t2\n",
        "    I-Hours\ta\n",
        "    I-Hours\tm\n",
        "    B-Restaurant_Name\tpassims\n",
        "    I-Restaurant_Name\tkitchen\n",
        "    \n",
        "    returns a list of lists of tuples of (word, tag) tuples\n",
        "    \"\"\"\n",
        "    f = open(fpath)\n",
        "    data = []  # the data, a list of lists of (word, tag) tuples\n",
        "    current_sent = []  # data for current sentence/example\n",
        "    for line in f:\n",
        "        if line == \"\\n\":  # each instance has a blank line separating it from next one\n",
        "            # solution\n",
        "            data.append(current_sent)\n",
        "            current_sent = []\n",
        "            continue\n",
        "        line_data = line.strip(\"\\n\").split(\"\\t\")\n",
        "        current_sent.append((line_data[1], line_data[0]))\n",
        "    f.close()\n",
        "    return data"
      ],
      "execution_count": 35,
      "outputs": []
    },
    {
      "cell_type": "code",
      "metadata": {
        "id": "BOdrhQ2ulU5P"
      },
      "source": [
        "raw_training_data = get_raw_data_from_bio_file(\"engtrain.bio.txt\") "
      ],
      "execution_count": 36,
      "outputs": []
    },
    {
      "cell_type": "code",
      "metadata": {
        "id": "9x0enZ12lU5c",
        "outputId": "8f46ee8f-520c-47fc-f491-99b05a0907bb",
        "colab": {
          "base_uri": "https://localhost:8080/"
        }
      },
      "source": [
        "# have a look at the first example\n",
        "print(raw_training_data[0])"
      ],
      "execution_count": 37,
      "outputs": [
        {
          "output_type": "stream",
          "text": [
            "[('what', 'O'), ('movies', 'O'), ('star', 'O'), ('bruce', 'B-ACTOR'), ('willis', 'I-ACTOR')]\n"
          ],
          "name": "stdout"
        }
      ]
    },
    {
      "cell_type": "code",
      "metadata": {
        "id": "FY1643D-lU5r",
        "outputId": "a24f2d25-645f-4a08-8e82-88a17dc999f1",
        "colab": {
          "base_uri": "https://localhost:8080/"
        }
      },
      "source": [
        "print(len(raw_training_data), \"instances\")\n",
        "print(sum([len(sent) for sent in raw_training_data]), \"words\")"
      ],
      "execution_count": 38,
      "outputs": [
        {
          "output_type": "stream",
          "text": [
            "9775 instances\n",
            "99491 words\n"
          ],
          "name": "stdout"
        }
      ]
    },
    {
      "cell_type": "code",
      "metadata": {
        "id": "yHpF-Eh2lU54"
      },
      "source": [
        "def preProcess(example):\n",
        "    \"\"\"Function takes in list of (word, bio-tag) pairs, e.g.:\n",
        "        [('what', 'O'), ('movies', 'O'), ('star', 'O'), ('bruce', 'B-ACTOR'), ('willis', 'I-ACTOR')]\n",
        "    returns new (token, bio-tag) pairs with preprocessing applied to the words\"\"\"\n",
        "\n",
        "    preprocessed_example = example  # trivial- no preprocessing\n",
        "    return preprocessed_example"
      ],
      "execution_count": 39,
      "outputs": []
    },
    {
      "cell_type": "markdown",
      "metadata": {
        "id": "G5EoTsWDuFdb"
      },
      "source": [
        "# 1. Split the training data into 80% training, 20% development set (5 marks)\n",
        "Split the training data (`training_data`) into two lists: one split of the first 80% of the instances of `training_data`, which you will use for training your CRF, and the remaining 20% for testing. Once you've done this re-run the above code such that the tagger is trained on the 80% split and tested on the 20% split, and you obtain the classification report output and confusion heatmap output for the results of testing. Do not use the test data as it is above for testing/viewing results for now. Record the results by saving the classification report output as a string somewhere in the notebook for future reference as you go through."
      ]
    },
    {
      "cell_type": "code",
      "metadata": {
        "id": "kNwQ1GwwlU6C",
        "outputId": "b8addcbb-dcec-4bf9-88c2-175e125338b4",
        "colab": {
          "base_uri": "https://localhost:8080/"
        }
      },
      "source": [
        "testData = []\n",
        "trainData = []\n",
        "def splitData(percentage):\n",
        "    # A method to split the data between trainData and testData \n",
        "    dataSamples = len(raw_training_data)\n",
        "    #to find half of data\n",
        "    halfOfData = int(len(raw_training_data)/2)\n",
        "    #finding training samples\n",
        "    trainingSamples = int((percentage*dataSamples)/2)\n",
        "    #splitting of trainData\n",
        "    for (Text) in raw_training_data[:trainingSamples] + raw_training_data[halfOfData:halfOfData+trainingSamples]:\n",
        "        trainData.append(Text)\n",
        "    #splitting of testData\n",
        "    for (Text) in raw_training_data[trainingSamples:halfOfData] + raw_training_data[halfOfData+trainingSamples:]:\n",
        "        testData.append(Text)\n",
        "#80% of trainData and 20% of testData\n",
        "splitData(0.8)\n",
        "#print the size of trainData and testData\n",
        "print(len(trainData), len(testData))"
      ],
      "execution_count": 40,
      "outputs": [
        {
          "output_type": "stream",
          "text": [
            "7820 1955\n"
          ],
          "name": "stdout"
        }
      ]
    },
    {
      "cell_type": "code",
      "metadata": {
        "id": "b5GpmUmYlU6N"
      },
      "source": [
        "training_data = [preProcess(example) for example in raw_training_data]"
      ],
      "execution_count": 41,
      "outputs": []
    },
    {
      "cell_type": "code",
      "metadata": {
        "id": "yBD-ZhlilU6Y",
        "outputId": "e881aa77-9d59-4d93-f2f0-cc06646db187",
        "colab": {
          "base_uri": "https://localhost:8080/"
        }
      },
      "source": [
        "# check the effect of pre-processing\n",
        "print(training_data[0])"
      ],
      "execution_count": 42,
      "outputs": [
        {
          "output_type": "stream",
          "text": [
            "[('what', 'O'), ('movies', 'O'), ('star', 'O'), ('bruce', 'B-ACTOR'), ('willis', 'I-ACTOR')]\n"
          ],
          "name": "stdout"
        }
      ]
    },
    {
      "cell_type": "code",
      "metadata": {
        "id": "rAIrqek_lU6h"
      },
      "source": [
        "_pattern = re.compile(r\"\\d\")  # to recognize numbers/digits\n",
        "\n",
        "# This is the 'out-of-the-box' get_features function from the nltk CRF tagger\n",
        "def get_features(tokens, idx):\n",
        "    \"\"\"\n",
        "    Extract basic features about this word including\n",
        "         - Current Word\n",
        "         - Is Capitalized ?\n",
        "         - Has Punctuation ?\n",
        "         - Has Number ?\n",
        "         - Suffixes up to length 3\n",
        "    Note that : we might include feature over previous word, next word ect.\n",
        "\n",
        "    :return : a list which contains the features\n",
        "    :rtype : list(str)\n",
        "\n",
        "    \"\"\"\n",
        "    token = tokens[idx]\n",
        "    feature_list = []\n",
        "\n",
        "    if not token:\n",
        "        return feature_list\n",
        "\n",
        "    # Capitalization\n",
        "    if token[0].isupper():\n",
        "        feature_list.append(\"CAPITALIZATION\")\n",
        "\n",
        "    # Number\n",
        "    if re.search(_pattern, token) is not None:\n",
        "        feature_list.append(\"HAS_NUM\")\n",
        "\n",
        "    # Punctuation\n",
        "    punc_cat = set([\"Pc\", \"Pd\", \"Ps\", \"Pe\", \"Pi\", \"Pf\", \"Po\"])\n",
        "    if all(unicodedata.category(x) in punc_cat for x in token):\n",
        "        feature_list.append(\"PUNCTUATION\")\n",
        "\n",
        "    # Suffix up to length 3\n",
        "    if len(token) > 1:\n",
        "        feature_list.append(\"SUF_\" + token[-1:])\n",
        "    if len(token) > 2:\n",
        "        feature_list.append(\"SUF_\" + token[-2:])\n",
        "    if len(token) > 3:\n",
        "        feature_list.append(\"SUF_\" + token[-3:])\n",
        "        \n",
        "    feature_list.append(\"WORD_\" + token)\n",
        "    #print(feature_list)\n",
        "    return feature_list"
      ],
      "execution_count": 43,
      "outputs": []
    },
    {
      "cell_type": "code",
      "metadata": {
        "id": "MMcJ_IHwlU6p",
        "outputId": "8ee669c4-ad5d-4d58-aa23-7fa048d1bd10",
        "colab": {
          "base_uri": "https://localhost:8080/"
        }
      },
      "source": [
        "# Train the CRF BIO-tag tagger\n",
        "TAGGER_PATH = \"crf_nlu.tagger\"  # path to the tagger- it will save/access the model from here\n",
        "ct = CRFTagger(feature_func=get_features)  # initialize tagger with get_features function\n",
        "\n",
        "print(\"training tagger...\")\n",
        "ct.train(training_data, TAGGER_PATH)\n",
        "print(\"done\")\n",
        "test_data = testData"
      ],
      "execution_count": 44,
      "outputs": [
        {
          "output_type": "stream",
          "text": [
            "training tagger...\n",
            "done\n"
          ],
          "name": "stdout"
        }
      ]
    },
    {
      "cell_type": "code",
      "metadata": {
        "id": "7knyn8JxlU6u",
        "outputId": "0dd6f6f9-ba10-4d97-e6af-6d67b260c692",
        "colab": {
          "base_uri": "https://localhost:8080/"
        }
      },
      "source": [
        "# load tagger from saved file\n",
        "ct = CRFTagger(feature_func=get_features)  # initialize tagger\n",
        "ct.set_model_file(TAGGER_PATH)  # load model from file\n",
        "\n",
        "# prepare the test data:\n",
        "raw_test_data = get_raw_data_from_bio_file(\"engtest.bio.txt\") \n",
        "test_data = [preProcess(example) for example in raw_test_data]\n",
        "print(len(test_data), \"instances\")\n",
        "print(sum([len(sent) for sent in test_data]), \"words\")"
      ],
      "execution_count": 45,
      "outputs": [
        {
          "output_type": "stream",
          "text": [
            "2443 instances\n",
            "24686 words\n"
          ],
          "name": "stdout"
        }
      ]
    },
    {
      "cell_type": "code",
      "metadata": {
        "id": "m8K5gAJGlU67",
        "outputId": "9cdc6a55-e214-4880-9f57-10b0787e21a0",
        "colab": {
          "base_uri": "https://localhost:8080/"
        }
      },
      "source": [
        "print(\"testing tagger...\")\n",
        "preds = []\n",
        "y_test = []\n",
        "\n",
        "for sent in test_data:\n",
        "    sent_preds = [x[1] for x in ct.tag([s[0] for s in sent])]\n",
        "    sent_true = [s[1] for s in sent]\n",
        "    preds.extend(sent_preds)\n",
        "    y_test.extend(sent_true)\n",
        "print(\"done\")           \n"
      ],
      "execution_count": 46,
      "outputs": [
        {
          "output_type": "stream",
          "text": [
            "testing tagger...\n",
            "done\n"
          ],
          "name": "stdout"
        }
      ]
    },
    {
      "cell_type": "code",
      "metadata": {
        "id": "bEqf799ulU7I",
        "outputId": "b17ca077-1a79-4079-c1c0-1b4d2680d44a",
        "colab": {
          "base_uri": "https://localhost:8080/"
        }
      },
      "source": [
        "# Output the classification report (which you should save each time for comparing your models)\n",
        "print(classification_report(y_test, preds))"
      ],
      "execution_count": 47,
      "outputs": [
        {
          "output_type": "stream",
          "text": [
            "/usr/local/lib/python3.6/dist-packages/sklearn/metrics/_classification.py:1272: UndefinedMetricWarning: Precision and F-score are ill-defined and being set to 0.0 in labels with no predicted samples. Use `zero_division` parameter to control this behavior.\n",
            "  _warn_prf(average, modifier, msg_start, len(result))\n"
          ],
          "name": "stderr"
        },
        {
          "output_type": "stream",
          "text": [
            "                   precision    recall  f1-score   support\n",
            "\n",
            "          B-ACTOR       0.76      0.88      0.81       812\n",
            "      B-CHARACTER       0.72      0.26      0.38        90\n",
            "       B-DIRECTOR       0.78      0.61      0.69       456\n",
            "          B-GENRE       0.91      0.95      0.93      1117\n",
            "           B-PLOT       0.60      0.40      0.48       491\n",
            "         B-RATING       0.98      0.97      0.97       500\n",
            "B-RATINGS_AVERAGE       0.87      0.82      0.84       451\n",
            "         B-REVIEW       0.14      0.02      0.03        56\n",
            "           B-SONG       0.69      0.17      0.27        54\n",
            "          B-TITLE       0.58      0.50      0.54       562\n",
            "        B-TRAILER       0.80      0.80      0.80        30\n",
            "           B-YEAR       0.94      0.94      0.94       720\n",
            "          I-ACTOR       0.75      0.89      0.81       862\n",
            "      I-CHARACTER       0.76      0.29      0.42        75\n",
            "       I-DIRECTOR       0.78      0.60      0.68       496\n",
            "          I-GENRE       0.84      0.71      0.77       222\n",
            "           I-PLOT       0.49      0.32      0.39       496\n",
            "         I-RATING       0.98      0.87      0.92       226\n",
            "I-RATINGS_AVERAGE       0.81      0.87      0.84       403\n",
            "         I-REVIEW       0.00      0.00      0.00        45\n",
            "           I-SONG       0.65      0.22      0.33       119\n",
            "          I-TITLE       0.58      0.69      0.63       856\n",
            "        I-TRAILER       0.00      0.00      0.00         8\n",
            "           I-YEAR       0.96      0.97      0.96       610\n",
            "                O       0.93      0.96      0.95     14929\n",
            "\n",
            "         accuracy                           0.88     24686\n",
            "        macro avg       0.69      0.59      0.62     24686\n",
            "     weighted avg       0.87      0.88      0.87     24686\n",
            "\n"
          ],
          "name": "stdout"
        }
      ]
    },
    {
      "cell_type": "markdown",
      "metadata": {
        "id": "Jx-Ip7n6ubXU"
      },
      "source": [
        "# 2. Error analysis 1: False positives (10 marks)\n",
        "\n",
        "Performing error analyses is a key part of improving your NLP applications. For the 5 classes which have the lowest precision, according to the results table from your 20% development data, print out all the sentences where there is a false positive for that class (i.e. the label is predicted in the predicted label for a given word by the tagger, but this is not present in the corresponding ground truth label for that word). HINT: This may most easily be achieved by editing the code above beginning `print(\"testing tagger...\")` and ending `print(\"done\")`. Have a look at these errors closely, and think about which features could be added to reduce the number of these errors."
      ]
    },
    {
      "cell_type": "code",
      "metadata": {
        "id": "RxN9yL3kuU2q",
        "outputId": "d0ef557f-46f9-4810-9127-ba9d090faeab",
        "colab": {
          "base_uri": "https://localhost:8080/",
          "height": 258
        }
      },
      "source": [
        "# Output the classification report (which you should save each time for comparing your models)\n",
        "report=classification_report(y_test, preds, output_dict=True)\n",
        "\n",
        "#creating a list(localdict)\n",
        "c=[]\n",
        "\n",
        "#creating a loop for report yo find the least 5 precision\n",
        "for i,j in report.items():\n",
        "  \n",
        "    #accuracy, macro avg and weighted avg is popped out\n",
        "    if ((i!='accuracy') and (i!='macro avg') and (i!='weighted avg')):\n",
        "        for a,b in j.items():\n",
        "            #precision is finded and append it in the list\n",
        "            if(a=='precision'):\n",
        "                c.append((i,a,b))\n",
        "\n",
        "#using pandas dataframe first 3 columns are displayed\n",
        "df=pd.DataFrame(c,columns=['col1','col2','col3'])\n",
        "#sorting is done to find the least precisions\n",
        "df_sort=df.sort_values('col3',ascending=True)\n",
        "#displaying the columns\n",
        "df_sort.head()"
      ],
      "execution_count": 48,
      "outputs": [
        {
          "output_type": "stream",
          "text": [
            "/usr/local/lib/python3.6/dist-packages/sklearn/metrics/_classification.py:1272: UndefinedMetricWarning: Precision and F-score are ill-defined and being set to 0.0 in labels with no predicted samples. Use `zero_division` parameter to control this behavior.\n",
            "  _warn_prf(average, modifier, msg_start, len(result))\n"
          ],
          "name": "stderr"
        },
        {
          "output_type": "execute_result",
          "data": {
            "text/html": [
              "<div>\n",
              "<style scoped>\n",
              "    .dataframe tbody tr th:only-of-type {\n",
              "        vertical-align: middle;\n",
              "    }\n",
              "\n",
              "    .dataframe tbody tr th {\n",
              "        vertical-align: top;\n",
              "    }\n",
              "\n",
              "    .dataframe thead th {\n",
              "        text-align: right;\n",
              "    }\n",
              "</style>\n",
              "<table border=\"1\" class=\"dataframe\">\n",
              "  <thead>\n",
              "    <tr style=\"text-align: right;\">\n",
              "      <th></th>\n",
              "      <th>col1</th>\n",
              "      <th>col2</th>\n",
              "      <th>col3</th>\n",
              "    </tr>\n",
              "  </thead>\n",
              "  <tbody>\n",
              "    <tr>\n",
              "      <th>22</th>\n",
              "      <td>I-TRAILER</td>\n",
              "      <td>precision</td>\n",
              "      <td>0.000000</td>\n",
              "    </tr>\n",
              "    <tr>\n",
              "      <th>19</th>\n",
              "      <td>I-REVIEW</td>\n",
              "      <td>precision</td>\n",
              "      <td>0.000000</td>\n",
              "    </tr>\n",
              "    <tr>\n",
              "      <th>7</th>\n",
              "      <td>B-REVIEW</td>\n",
              "      <td>precision</td>\n",
              "      <td>0.142857</td>\n",
              "    </tr>\n",
              "    <tr>\n",
              "      <th>16</th>\n",
              "      <td>I-PLOT</td>\n",
              "      <td>precision</td>\n",
              "      <td>0.490854</td>\n",
              "    </tr>\n",
              "    <tr>\n",
              "      <th>9</th>\n",
              "      <td>B-TITLE</td>\n",
              "      <td>precision</td>\n",
              "      <td>0.578732</td>\n",
              "    </tr>\n",
              "  </tbody>\n",
              "</table>\n",
              "</div>"
            ],
            "text/plain": [
              "         col1       col2      col3\n",
              "22  I-TRAILER  precision  0.000000\n",
              "19   I-REVIEW  precision  0.000000\n",
              "7    B-REVIEW  precision  0.142857\n",
              "16     I-PLOT  precision  0.490854\n",
              "9     B-TITLE  precision  0.578732"
            ]
          },
          "metadata": {
            "tags": []
          },
          "execution_count": 48
        }
      ]
    },
    {
      "cell_type": "code",
      "metadata": {
        "id": "otu1PYhKD9yk",
        "outputId": "68746d50-613d-4dc7-f73e-4e0f70843649",
        "colab": {
          "base_uri": "https://localhost:8080/",
          "height": 34
        }
      },
      "source": [
        "#lowest 5 precision is ordered and stored in a list\n",
        "precision= list(df_sort['col1'].head())\n",
        "display(precision)"
      ],
      "execution_count": 49,
      "outputs": [
        {
          "output_type": "display_data",
          "data": {
            "text/plain": [
              "['I-TRAILER', 'I-REVIEW', 'B-REVIEW', 'I-PLOT', 'B-TITLE']"
            ]
          },
          "metadata": {
            "tags": []
          }
        }
      ]
    },
    {
      "cell_type": "code",
      "metadata": {
        "id": "Q97YgSLiugxE",
        "outputId": "13b284aa-b6aa-46dd-9e4c-d574437f31cb",
        "colab": {
          "base_uri": "https://localhost:8080/"
        }
      },
      "source": [
        "#ERROR ANALYSIS 1 - FALSE POSITIVES\n",
        "\n",
        "#printing a testing tagger\n",
        "print(\"testing tagger...\")\n",
        "print('False_positives:')\n",
        "#prediction list\n",
        "preds = []\n",
        "#test list\n",
        "y_test = []\n",
        "\n",
        "#creating loop to find the sent_preds and sent_true \n",
        "for sent in test_data:\n",
        "    #calculating sent_preds\n",
        "    sent_preds = [x[1] for x in ct.tag([s[0] for s in sent])]\n",
        "    #calculating sent_true\n",
        "    sent_true = [s[1] for s in sent]\n",
        "    #extend preds and y_test\n",
        "    preds.extend(sent_preds)\n",
        "    y_test.extend(sent_true)\n",
        "\n",
        "#creating a loop to find the false positives \n",
        "#firsty, create a loop to store predicted list\n",
        "    for i in range(len(sent_preds)):\n",
        "        #sent preds not equal to sent true\n",
        "        if (sent_preds[i] != sent_true[i]):\n",
        "          #create a loop for precision\n",
        "          #import the above finded 5 lowest precision value \n",
        "          for j in precision:\n",
        "            #precision equals sent preds(predicted list)\n",
        "            if (j==sent_preds[i]):\n",
        "              #print false positives\n",
        "              print(sent_preds[i],\"[ \",' '.join([s[0] for s in sent]),\"]\")                    \n",
        "print(\"done\")\n"
      ],
      "execution_count": 50,
      "outputs": [
        {
          "output_type": "stream",
          "text": [
            "testing tagger...\n",
            "False_positives:\n",
            "B-TITLE [  are there any good romantic comedies out right now ]\n",
            "B-TITLE [  show me a movie about cars that talk ]\n",
            "B-TITLE [  find me science fiction movies since 2005 ]\n",
            "B-TITLE [  find rated g films with flying cars ]\n",
            "B-TITLE [  what was the plot behind 3 days of the condor ]\n",
            "B-TITLE [  have pg 13 movies for the kidz ]\n",
            "I-PLOT [  which movies were based off of video games besides resident evil ]\n",
            "I-PLOT [  which movies were based off of video games besides resident evil ]\n",
            "I-PLOT [  which movies were based off of video games besides resident evil ]\n",
            "B-TITLE [  what was james camerons directorial debut ]\n",
            "I-PLOT [  whats the latetest foreign romantic movie with lots of sex and sadness ]\n",
            "B-TITLE [  whats the latetest foreign romantic movie with lots of sex and sadness ]\n",
            "I-PLOT [  the new batman movie looks epic ]\n",
            "B-TITLE [  which movies are made with video game plots ]\n",
            "B-TITLE [  what movie has the most remakes ]\n",
            "I-PLOT [  what movie did rod serling write ]\n",
            "I-PLOT [  what movie did rod serling write ]\n",
            "B-TITLE [  the song sunshine on my shoulders was the soundtrack for what movie ]\n",
            "B-TITLE [  find me the name of the actor that played v in v for vendetta ]\n",
            "B-TITLE [  list of actors a beautiful mind ]\n",
            "I-PLOT [  did angelina jolie play a russian in salt ]\n",
            "I-PLOT [  did angelina jolie play a russian in salt ]\n",
            "B-TITLE [  did they make a movie version of absolutely fabulous ]\n",
            "B-TITLE [  what movie has the song down with the sickness ]\n",
            "B-TITLE [  what popular films released last month ]\n",
            "I-PLOT [  are there any films that harmony korine regrets directing andor releasing to the public ]\n",
            "I-PLOT [  are there any films that harmony korine regrets directing andor releasing to the public ]\n",
            "I-PLOT [  are there any films that harmony korine regrets directing andor releasing to the public ]\n",
            "I-PLOT [  are there any films that harmony korine regrets directing andor releasing to the public ]\n",
            "I-PLOT [  are there any films that harmony korine regrets directing andor releasing to the public ]\n",
            "I-PLOT [  are there any films that harmony korine regrets directing andor releasing to the public ]\n",
            "B-TITLE [  who stars in rumble in the bronx ]\n",
            "I-PLOT [  what was the release year for notes on a scandal ]\n",
            "I-PLOT [  what was the release year for notes on a scandal ]\n",
            "I-PLOT [  what was the release year for notes on a scandal ]\n",
            "I-PLOT [  waht was the plot of the deep blue sea ]\n",
            "I-PLOT [  waht was the plot of the deep blue sea ]\n",
            "I-PLOT [  did whitney houston sing in the preachers wife ]\n",
            "B-TITLE [  where can i watch a preview of moneyball ]\n",
            "B-TITLE [  who starred in who framed roger rabbit ]\n",
            "B-TITLE [  who directed 310 to yuma ]\n",
            "B-TITLE [  what movies have batman and robin ]\n",
            "B-TITLE [  find me a movie with the song lets hear it for the boys ]\n",
            "I-REVIEW [  what are the best werewolf movies ]\n",
            "B-TITLE [  who voices shrek in shrek ]\n",
            "B-TITLE [  what was a love story about a woman who had alzheimers ]\n",
            "B-TITLE [  what was a love story about a woman who had alzheimers ]\n",
            "B-TITLE [  are there any movies with catherine ohara that were set during christmas time ]\n",
            "I-PLOT [  who directed the japanese film versus ]\n",
            "I-PLOT [  who directed the japanese film versus ]\n",
            "B-TITLE [  who stars in the girl with the dragon tattoo ]\n",
            "B-TITLE [  how many movies are in the sex and the city series ]\n",
            "B-TITLE [  super man ]\n",
            "B-TITLE [  what is a monty python film about king arthur ]\n",
            "B-TITLE [  what did critics think of j edgar ]\n",
            "I-PLOT [  find me the movie with the song married life ]\n",
            "I-PLOT [  show me action movies that deal with stealing cars ]\n",
            "I-PLOT [  show me action movies that deal with stealing cars ]\n",
            "B-TITLE [  show me any action movies that are in theatres right now ]\n",
            "B-TITLE [  what is the plot of the wild bunch ]\n",
            "B-TITLE [  does the film speed racer use the original song from the tv show ]\n",
            "B-TITLE [  find me the number of samurai films made in the 1960s ]\n",
            "B-TITLE [  whats the movie with the line home is where you hang your hat ]\n",
            "B-TITLE [  what year did the original black and white casablanca come out ]\n",
            "I-PLOT [  what movie has seals kiss from a rose in it ]\n",
            "I-PLOT [  what movie has seals kiss from a rose in it ]\n",
            "I-PLOT [  what movie has seals kiss from a rose in it ]\n",
            "I-PLOT [  what movie has seals kiss from a rose in it ]\n",
            "B-TITLE [  what star wars movie had darth maul ]\n",
            "B-TITLE [  what was the name of ariels seagull in the little mermaid ]\n",
            "B-TITLE [  what was the third harry potter movie called ]\n",
            "B-TITLE [  name the director if the fifth harry potter movie ]\n",
            "I-PLOT [  what city was the famous car chase from the french connection in ]\n",
            "I-PLOT [  what city was the famous car chase from the french connection in ]\n",
            "I-PLOT [  what city was the famous car chase from the french connection in ]\n",
            "I-PLOT [  what city was the famous car chase from the french connection in ]\n",
            "I-PLOT [  what city was the famous car chase from the french connection in ]\n",
            "B-TITLE [  show me harry potter ]\n",
            "B-TITLE [  look for dramas that have denzel washington and are academy award winners or nominees ]\n",
            "B-TITLE [  show me movies directed by herbert ross with dancing as part of its story line ]\n",
            "B-TITLE [  who wrote the them song for the harry potter movies ]\n",
            "I-PLOT [  name the lindsay lohan movie that features a living race car ]\n",
            "I-PLOT [  name the lindsay lohan movie that features a living race car ]\n",
            "B-TITLE [  show me the harry potter series ]\n",
            "B-TITLE [  play a song from blow soundtrack ]\n",
            "B-TITLE [  who played as morpheus in the matrix ]\n",
            "B-TITLE [  list all science fiction movies playing the next 12 hours ]\n",
            "I-PLOT [  what is the movie that has the song zip a dee doo dah ]\n",
            "I-PLOT [  what is the movie that has the song zip a dee doo dah ]\n",
            "I-PLOT [  what is the movie that has the song zip a dee doo dah ]\n",
            "I-PLOT [  what is the movie that has the song zip a dee doo dah ]\n",
            "B-TITLE [  name the film that features the song sway by bic runga ]\n",
            "I-PLOT [  list all versions of south pacific ]\n",
            "I-PLOT [  list all versions of south pacific ]\n",
            "I-PLOT [  list all versions of south pacific ]\n",
            "I-PLOT [  in which movies did leonardo dicaprio play a cop or federal agent ]\n",
            "I-PLOT [  in which movies did leonardo dicaprio play a cop or federal agent ]\n",
            "I-PLOT [  in which movies did leonardo dicaprio play a cop or federal agent ]\n",
            "B-TITLE [  ill never let go is a famous quote from what 1990s movie ]\n",
            "B-TITLE [  find an animated movie about the beatles ]\n",
            "B-TITLE [  whats a monty python flick about philosophy ]\n",
            "B-TITLE [  who said asta la vista baby ]\n",
            "B-TITLE [  show me a list of family movies with holiday themes ]\n",
            "I-PLOT [  true stories about hispanic musicians ]\n",
            "I-PLOT [  true stories about hispanic musicians ]\n",
            "I-PLOT [  true stories about hispanic musicians ]\n",
            "B-TITLE [  run repo man ]\n",
            "I-PLOT [  disney cartoon with classical music and animals ]\n",
            "I-PLOT [  disney cartoon with classical music and animals ]\n",
            "I-PLOT [  disney cartoon with classical music and animals ]\n",
            "B-TITLE [  what movies have been made in the 21st century pertaining to animal rescue ]\n",
            "B-TITLE [  find me the review of black swan ]\n",
            "B-TITLE [  show the blow soundtrack ]\n",
            "B-TITLE [  which movie stars emma watson playing another role aside from hermione granger ]\n",
            "B-REVIEW [  show me movies with oscar winning actors ]\n",
            "I-REVIEW [  show me movies with oscar winning actors ]\n",
            "I-REVIEW [  show me movies with oscar winning actors ]\n",
            "B-TITLE [  list all films based on the wizard of oz books ]\n",
            "I-PLOT [  what was the title song for kissing cousins ]\n",
            "B-TITLE [  did hans zimmer write the music for pirates of the carribean ]\n",
            "B-TITLE [  i want to find the movie starring meryl streep and anne hathaway ]\n",
            "B-TITLE [  find the newest harry potter movie ]\n",
            "I-PLOT [  which professional football player stared in shaft ]\n",
            "I-PLOT [  which professional football player stared in shaft ]\n",
            "I-PLOT [  which professional football player stared in shaft ]\n",
            "I-PLOT [  which professional football player stared in shaft ]\n",
            "I-PLOT [  which professional football player stared in shaft ]\n",
            "B-TITLE [  find a horror movie with creepy little girls ]\n",
            "B-TITLE [  find the movie with the yellow brick road ]\n",
            "B-TITLE [  find a review for the last harry potter movie ]\n",
            "B-TITLE [  what was the name of ariels prince in the little mermaid ]\n",
            "B-TITLE [  please list all childrens movies with mary kate and ashley ]\n",
            "B-TITLE [  find the movie with the song its hard out there for a pimp ]\n",
            "B-TITLE [  what was the name of the movie with brad pitt about robbing a casino ]\n",
            "B-REVIEW [  which tom hanks film features him as a stranded fed ex employee ]\n",
            "I-REVIEW [  which tom hanks film features him as a stranded fed ex employee ]\n",
            "I-REVIEW [  which tom hanks film features him as a stranded fed ex employee ]\n",
            "I-REVIEW [  which tom hanks film features him as a stranded fed ex employee ]\n",
            "B-TITLE [  are there any movies about bank robberies ]\n",
            "B-TITLE [  name a well known director of japanese samurai movies ]\n",
            "B-TITLE [  are you able to name an anime film that is in black and white ]\n",
            "B-TITLE [  find the air bud movie about baseball ]\n",
            "I-PLOT [  what zombie movie features a zombie tiger ]\n",
            "B-TITLE [  which actor played captain january ]\n",
            "I-PLOT [  run a trailer for journey back to oz ]\n",
            "I-PLOT [  run a trailer for journey back to oz ]\n",
            "I-PLOT [  run a trailer for journey back to oz ]\n",
            "B-TITLE [  did zach braff compose the garden state soundtrack himself ]\n",
            "I-PLOT [  find me a movie with the song a whole new world ]\n",
            "I-PLOT [  find me a movie with the song a whole new world ]\n",
            "B-TITLE [  find movies about the first gulf war ]\n",
            "B-TITLE [  is there a movie with kate hudson as a love struck columnist ]\n",
            "B-TITLE [  show me a movie about characters named kermit and miss piggy ]\n",
            "B-TITLE [  who directed the legend of bagger vance ]\n",
            "B-TITLE [  looking for a list of hammer studios vampire films ]\n",
            "B-TITLE [  what movie featured the quote say hello to my little friend ]\n",
            "B-TITLE [  who played sabrina in the 21st century remake of the audrey hepburn movie ]\n",
            "I-PLOT [  find me biopics starring country music stars ]\n",
            "I-PLOT [  find me biopics starring country music stars ]\n",
            "B-TITLE [  find a drama about gangs in la ]\n",
            "I-PLOT [  show me a famous 1940s movie made in france during the nazi occupation ]\n",
            "B-TITLE [  what are the movies with the best twist endings ]\n",
            "I-PLOT [  historical movies of true events with romance ]\n",
            "I-PLOT [  historical movies of true events with romance ]\n",
            "I-PLOT [  historical movies of true events with romance ]\n",
            "B-TITLE [  find me movies about the end of the world ]\n",
            "B-TITLE [  find movies set in los angeles in the future ]\n",
            "I-PLOT [  who is the actor that stars in the new tv show awake ]\n",
            "I-PLOT [  who is the actor that stars in the new tv show awake ]\n",
            "I-PLOT [  who is the actor that stars in the new tv show awake ]\n",
            "B-TITLE [  show me a movie with christina aguleria and cher ]\n",
            "B-TITLE [  show me the disney movie featuring hayley mills on a greek island ]\n",
            "I-PLOT [  what songs were on the soundtrack for center stage ]\n",
            "I-PLOT [  what r rated movies from 2011 do not have full frontal nudity in them ]\n",
            "I-PLOT [  what r rated movies from 2011 do not have full frontal nudity in them ]\n",
            "B-TITLE [  show me movies about king kong ]\n",
            "I-PLOT [  show me a movie about aliens attacking earth ]\n",
            "I-PLOT [  show me a movie about aliens attacking earth ]\n",
            "I-PLOT [  what movie uses harpsicord music ]\n",
            "B-TITLE [  show me a movie with lots of sky diving in it ]\n",
            "B-TITLE [  please find the robert altman movie set during the korean war ]\n",
            "B-TITLE [  what film directed by zack snyder shows the forces of king leonidas ]\n",
            "B-TITLE [  show me the film based on a stephen king book about the flu killing most of humanity ]\n",
            "B-TITLE [  show me the movie where cary grant has two aunts that poison and bury old men ]\n",
            "I-PLOT [  whats the movie with the line doomed is your soul and damned is your life ]\n",
            "I-PLOT [  whats the movie with the line doomed is your soul and damned is your life ]\n",
            "I-PLOT [  whats the movie with the line doomed is your soul and damned is your life ]\n",
            "B-TITLE [  who directed who framed roger rabbit ]\n",
            "B-TITLE [  what movies directed by carlos saura use typical spanish dances ]\n",
            "I-PLOT [  what was the plot of sudden death ]\n",
            "B-TITLE [  looking for a movie about a huge killer snake in the amazon ]\n",
            "B-REVIEW [  how many stars did scarface recieve in reviews ]\n",
            "I-PLOT [  what were the viewer ratings for the movie world trade center ]\n",
            "I-PLOT [  what were the viewer ratings for the movie world trade center ]\n",
            "I-PLOT [  find the comedy with matt dillon as a fired bartender and liv tyler is his girlfriend ]\n",
            "I-PLOT [  find the comedy with matt dillon as a fired bartender and liv tyler is his girlfriend ]\n",
            "I-PLOT [  find the comedy with matt dillon as a fired bartender and liv tyler is his girlfriend ]\n",
            "I-PLOT [  find the comedy with matt dillon as a fired bartender and liv tyler is his girlfriend ]\n",
            "I-PLOT [  find the comedy with matt dillon as a fired bartender and liv tyler is his girlfriend ]\n",
            "I-PLOT [  find the comedy with matt dillon as a fired bartender and liv tyler is his girlfriend ]\n",
            "B-TITLE [  show me a movie with the song making christmas ]\n",
            "B-TITLE [  show me the judd apatow film about a middle aged mans journey to finally have sex ]\n",
            "B-TITLE [  find me the movie where someone says i love the smell of napalm in the morning ]\n",
            "B-TITLE [  find the movie starring jack lemmon and alan arkin as real estate salesmen ]\n",
            "I-PLOT [  find me a film with the song under the sea ]\n",
            "I-PLOT [  find me a film with the song under the sea ]\n",
            "B-TITLE [  that is the mpaa rating for mutiny on the bounty ]\n",
            "B-TITLE [  find me a movie with pirates ]\n",
            "B-REVIEW [  what movie won the most awards ]\n",
            "I-REVIEW [  what movie won the most awards ]\n",
            "B-TITLE [  whats the james cameron movie with the blue aliens ]\n",
            "B-TITLE [  show me harry potter movies from the 2000s ]\n",
            "B-TITLE [  are there any movies about the korean war ]\n",
            "B-TITLE [  who is doing the soundtrack for prometheus ]\n",
            "B-TITLE [  are there any r rated movies with pirates ]\n",
            "B-TITLE [  when is the last season of desperate housewives going to air in europe ]\n",
            "B-TITLE [  find the 1960s movie about a group of schoolboys marooned on an island ]\n",
            "B-TITLE [  name of movie where ring is thrown into volcano ]\n",
            "B-TITLE [  whats a monty python flick about fish ]\n",
            "B-TITLE [  show me a movie with the muppets ]\n",
            "B-REVIEW [  what m night shyamalan movie got the best reviews ]\n",
            "I-REVIEW [  what m night shyamalan movie got the best reviews ]\n",
            "B-TITLE [  are there any movies directed by peter jackson except lord of the rings ]\n",
            "B-TITLE [  in which 2004 film directed by mel gibson portrays the last hours in the life of jesus ]\n",
            "I-PLOT [  what film had the song the power of love ]\n",
            "I-PLOT [  what film had the song the power of love ]\n",
            "B-TITLE [  looking for the movie with a black man as an alien directed by john sayles ]\n",
            "B-TITLE [  find a trailer for chariots of fire ]\n",
            "B-TITLE [  show me a list of movies starring kristen stewart as bella ]\n",
            "I-PLOT [  what year did wild wild west come out ]\n",
            "I-PLOT [  what year did wild wild west come out ]\n",
            "B-TITLE [  is there a documentary about a kiss tribute band ]\n",
            "B-TITLE [  who directed the bedford incident ]\n",
            "B-TITLE [  what films use the song zippity do da ]\n",
            "B-TITLE [  looking for an old black and white british movie called the holly and the ivy ]\n",
            "B-TITLE [  the hunger games star actress ]\n",
            "B-TITLE [  who is the director of the breakfast club ]\n",
            "B-TITLE [  what is the plot of happy gilmore ]\n",
            "I-PLOT [  who starred in switchuing goals ]\n",
            "B-TITLE [  who said nobody puts baby in the corner ]\n",
            "B-TITLE [  who played both boys in the errol flynn movie the prince and the pauper ]\n",
            "B-TITLE [  help me find a movie with the song when you really love a woman ]\n",
            "B-TITLE [  find the movie hans conried and a gigantic piano keyboard ]\n",
            "B-TITLE [  find a review for the blue bird ]\n",
            "B-TITLE [  did jessica alba made any new movies after spy kids 4 ]\n",
            "B-TITLE [  find a viewers review for the fast and the furious ]\n",
            "B-TITLE [  find the movie directed by james cameron about blue people on another planet ]\n",
            "I-PLOT [  what movie grossed the most amount of money opening weekend in 2011 ]\n",
            "I-PLOT [  what movie grossed the most amount of money opening weekend in 2011 ]\n",
            "I-PLOT [  any drama films about becoming a champion ]\n",
            "I-PLOT [  any drama films about becoming a champion ]\n",
            "B-TITLE [  are there any documentary movies about peoples rights ]\n",
            "B-TITLE [  are there any movies about the lion king featuring seth green ]\n",
            "B-TITLE [  did you enjoy pink flamingos ]\n",
            "B-TITLE [  did you enjoy the worlds greatest dad ]\n",
            "B-TITLE [  did you love mamma mia ]\n",
            "B-TITLE [  do you carry the movie the a team ]\n",
            "B-TITLE [  do you happen to know where i might find the movie every which way but loose ]\n",
            "B-TITLE [  do you have the pg 13 movie from 1970 about a road trip directed by karen harley thats good for a laugh ]\n",
            "I-PLOT [  do you have the film the loss of sexual innocence ]\n",
            "B-TITLE [  do you know where i can find a pg sports movie from the 1940 s that was directed by wych kaosayananda ]\n",
            "I-PLOT [  do you know where i might find the movie must love death ]\n",
            "I-PLOT [  do you know where i might find the movie must love death ]\n",
            "I-PLOT [  find a film with the title suicide killers ]\n",
            "B-TITLE [  have you ever watched the vantage point ]\n",
            "B-TITLE [  how come i do not see as many mockumentary movies being made these days ]\n",
            "I-PLOT [  how is the movie death to smoochy ]\n",
            "I-PLOT [  how is the movie death to smoochy ]\n",
            "I-PLOT [  i would like the movie mongolian death worm ]\n",
            "I-PLOT [  i would like the movie mongolian death worm ]\n",
            "I-PLOT [  id like a list of girl movies filmed in the year 1990 which star bobbie phillips ]\n",
            "I-PLOT [  id love a suggestion for a 1950 war movie ]\n",
            "I-PLOT [  id love a suggestion for a 1950 war movie ]\n",
            "B-TITLE [  is george lucas the director of the science fiction movie star wars ]\n",
            "B-TITLE [  is the shining based on a true story ]\n",
            "I-PLOT [  is the movie lorenzos oil any good to see ]\n",
            "I-PLOT [  is there a pg 13 film out there from the 2000 s that focuses on an evil character ]\n",
            "B-TITLE [  is there a film with the title f ]\n",
            "I-PLOT [  is there a five star jenna elfman romantic comedy type movie about an unhappy marriage set in the 1960 s ]\n",
            "B-TITLE [  is there a good romance movie i can take my girlfriend to ]\n",
            "B-TITLE [  is there a movie called the night on earth ]\n",
            "B-TITLE [  is there any good rated r crime movies coming out next month ]\n",
            "B-TITLE [  is there any historical movies about world war 2 coming out this year ]\n",
            "I-PLOT [  list pg 13 movies about love and depression with john cusak in the past ten years ]\n",
            "I-PLOT [  list pg 13 movies about love and depression with john cusak in the past ten years ]\n",
            "B-TITLE [  list a pg rated funny movie that centers on road trip ]\n",
            "B-TITLE [  list a funny movie which centers on road trip ]\n",
            "B-TITLE [  list a move of the gags genre that was directed by j s cardone and uses satire in its plot ]\n",
            "I-PLOT [  list a must see rated g movie about an alien hunter with actor ginger rogers ]\n",
            "I-PLOT [  list a must see rated g movie about an alien hunter with actor ginger rogers ]\n",
            "I-PLOT [  list a must see rated g movie about an alien hunter with actor ginger rogers ]\n",
            "I-PLOT [  list a must see rated g movie about an alien hunter with actor ginger rogers ]\n",
            "B-TITLE [  list a psychological drama movie that centers on lost experiences ]\n",
            "B-TITLE [  list action movies that star satoshi kon ]\n",
            "B-TITLE [  list adventure films all about air battles released within the last year that were rated a six ]\n",
            "B-TITLE [  list all g rated movies about a road trip that received an average rating ]\n",
            "B-TITLE [  list an nc 17 rated biography film that centers on composer staring fisher stevens in the last nine decades ]\n",
            "I-PLOT [  list scary movies with a terror centric plot ]\n",
            "I-PLOT [  list some movies featuring graphic sexual horror ]\n",
            "I-PLOT [  list some movies featuring graphic sexual horror ]\n",
            "I-PLOT [  list the plot of excess baggage ]\n",
            "B-TITLE [  my husband wants to see the film noir rated nc 17 with nicole kidman in it ]\n",
            "B-TITLE [  name a film about a kung fu master ]\n",
            "B-TITLE [  name all movies in the past ten decades that star jonathon saech ]\n",
            "I-PLOT [  name the 1940 s military movie by directory florian baxmeyer with a government assassin plot ]\n",
            "I-PLOT [  name the 1940 s military movie by directory florian baxmeyer with a government assassin plot ]\n",
            "I-PLOT [  name the 1940 s military movie by directory florian baxmeyer with a government assassin plot ]\n",
            "I-PLOT [  name the 1940 s military movie by directory florian baxmeyer with a government assassin plot ]\n",
            "I-PLOT [  name the 1940 s military movie by directory florian baxmeyer with a government assassin plot ]\n",
            "B-TITLE [  name the harold f kress unrated film with good ratings that centers on a parole hearing ]\n",
            "B-REVIEW [  notorious is an instant classic ]\n",
            "B-TITLE [  recall a crime movie released in the last five decades that was directed by jesse t cook ]\n",
            "B-TITLE [  the movie the wind that shakes the barley what is it about ]\n",
            "B-TITLE [  was matt damon even alive when the shining was made ]\n",
            "B-TITLE [  what 1990 horror movie about demons was directed by philip adrian booth ]\n",
            "I-PLOT [  what 2010 pg rated adventure film stars wayne a harold ]\n",
            "I-PLOT [  what 2010 pg rated adventure film stars wayne a harold ]\n",
            "B-TITLE [  what g rated 1980 disaster movie that was directed by yi seung jun with a ratings average of eight called ]\n",
            "B-TITLE [  what jose quiroz romances have come out in the past seven years ]\n",
            "I-PLOT [  what pg 13 film was based on alien intrusion ]\n",
            "I-PLOT [  what pg 13 film was based on alien intrusion ]\n",
            "B-TITLE [  what r rated western with a rating of eight that was directed by ken wheat ]\n",
            "B-TITLE [  what are some pg movies that came out last year and had something to do with the british ]\n",
            "B-TITLE [  what are some r rated fantasy movies by guy magar ]\n",
            "B-TITLE [  what biography movies are about warsaw poland ]\n",
            "B-TITLE [  what decent drama of the 2000 s featured a plot about a secret society ]\n",
            "I-PLOT [  what good crime movie revolves around crime bosses ]\n",
            "I-PLOT [  what good crime movie revolves around crime bosses ]\n",
            "B-TITLE [  what highly liked pg 13 movie was about a teenage boy ]\n",
            "I-PLOT [  what is annihilation earth about ]\n",
            "B-TITLE [  what is in the electric mist ]\n",
            "B-TITLE [  what is a emotional marty belafsky film about illness that was rated r and came out in 1960 ]\n",
            "I-PLOT [  what is a watchable pg 13 suspense film directed by ward powers than features a dead child and was made in the past eight decades ]\n",
            "I-PLOT [  what is a watchable pg 13 suspense film directed by ward powers than features a dead child and was made in the past eight decades ]\n",
            "I-PLOT [  what is a watchable pg 13 suspense film directed by ward powers than features a dead child and was made in the past eight decades ]\n",
            "I-PLOT [  what is a watchable pg 13 suspense film directed by ward powers than features a dead child and was made in the past eight decades ]\n",
            "I-PLOT [  what is a watchable pg 13 suspense film directed by ward powers than features a dead child and was made in the past eight decades ]\n",
            "B-TITLE [  what is the city of god about ]\n",
            "B-TITLE [  what is the fists of fury ]\n",
            "I-PLOT [  what is the plot of christmas nightmare ]\n",
            "I-PLOT [  what is the plot of the film titled death sentence ]\n",
            "I-PLOT [  what is the plot of the movie titled navy seals ]\n",
            "I-PLOT [  what kid movie about man versus machine wad directed by robert pratten ]\n",
            "B-TITLE [  what movie is known as oliver stones best work ]\n",
            "B-TITLE [  what movies that are about the city did martin gero direct ]\n",
            "I-PLOT [  what rated r movie directed by edward zwick was based on the post world war one era ]\n",
            "B-TITLE [  what warsaw poland movie directed by carl bessai received two thumbs up ]\n",
            "B-TITLE [  what was a very popular science fiction movie that came out in the last nine years and was directed by rusty cundieff ]\n",
            "B-TITLE [  what was the clark gable wall street portrait film that got eight stars in the year 2000 ]\n",
            "B-TITLE [  what was the hoyt yeatman disney wildlife film that averaged seven out of ten ]\n",
            "B-TITLE [  what was the first crime movie that marlon brando was in was it the godfather ]\n",
            "B-TITLE [  when did you see that must see biography about the king ]\n",
            "B-TITLE [  where can i find last of the dogmen ]\n",
            "I-PLOT [  where can i find the movie mrs miracle to purchase ]\n",
            "I-PLOT [  where can i find the movie mrs miracle to purchase ]\n",
            "I-PLOT [  where can i find the movie mrs miracle to purchase ]\n",
            "B-TITLE [  where can i find the movie squanto a warriors tale ]\n",
            "B-TITLE [  where can i rent satellite in the sky ]\n",
            "B-TITLE [  where is the movie hachiko a dogs story set ]\n",
            "I-PLOT [  which horror films portray power struggles ]\n",
            "I-PLOT [  which horror films portray power struggles ]\n",
            "B-TITLE [  who directed all star superman ]\n",
            "I-PLOT [  who directed snakes on a plane ]\n",
            "I-PLOT [  who directed snakes on a plane ]\n",
            "I-PLOT [  who directed snakes on a plane ]\n",
            "B-TITLE [  who directed the back up plan ]\n",
            "B-TITLE [  who starred in a thin line between love and hate ]\n",
            "I-PLOT [  who stars in world for ransom ]\n",
            "I-PLOT [  who stars in world for ransom ]\n",
            "B-TITLE [  do you know any good spaghetti western movies about horse drawn carraiges ]\n",
            "B-TITLE [  name a sci fi about a human ]\n",
            "I-PLOT [  what police movie is there that you would recommend where somebody is kidnapped ]\n",
            "I-PLOT [  what police movie is there that you would recommend where somebody is kidnapped ]\n",
            "B-TITLE [  whats a good action film about on the run ]\n",
            "I-PLOT [  show blogs regarding evita ]\n",
            "I-PLOT [  show blogs regarding evita ]\n",
            "B-TITLE [  could you send me to a website with user reviews of willy wonka the chocolate factory ]\n",
            "B-TITLE [  what do you think the best part of a hard day s night was ]\n",
            "B-TITLE [  please show me some of indiana s major scenes in the movie ]\n",
            "B-TITLE [  where can i see some short clips of a hard day s night ]\n",
            "I-PLOT [  what is the movie directed by george lucas which casts darth vader and yoda in it ]\n",
            "I-PLOT [  what is the movie directed by george lucas which casts darth vader and yoda in it ]\n",
            "I-PLOT [  empire strikes back ]\n",
            "I-PLOT [  empire strikes back ]\n",
            "B-TITLE [  snow white and the seven dwarfs ]\n",
            "B-TITLE [  sansho the bailiff ]\n",
            "B-TITLE [  play trailer of on stranger tides ]\n",
            "done\n"
          ],
          "name": "stdout"
        }
      ]
    },
    {
      "cell_type": "markdown",
      "metadata": {
        "id": "72vri3Equl_U"
      },
      "source": [
        "# 3. Error analysis 2: False negatives (10 marks)\n",
        "\n",
        "For the 5 classes which have the lowest recall, according to the results table from your 20% development data,, print out all the sentences where there is a false negative for that label (i.e. the label is present in the ground truth label for a given word, but that label is not predicted for that word by the tagger). HINT: This may most easily be achieved by editing the code above beginning `print(\"testing tagger...\")` and ending `print(\"done\")`. Have a look at these errors closely, and think about which features could be added to reduce the number of these errors."
      ]
    },
    {
      "cell_type": "code",
      "metadata": {
        "id": "KfN9PA0yusZj",
        "outputId": "84c1fa95-4a00-41cd-d2f7-9f1f014c77af",
        "colab": {
          "base_uri": "https://localhost:8080/",
          "height": 258
        }
      },
      "source": [
        "# Output the classification report\n",
        "report=classification_report(y_test, preds, output_dict=True)\n",
        "\n",
        "#creating a list(localdict)\n",
        "c=[]\n",
        "\n",
        "#creating a loop for report to find the least 5 recall\n",
        "for i,j in report.items():\n",
        "    \n",
        "    #accuracy, macro avg and weighted avg is popped out\n",
        "    if ((i!='accuracy') and (i!='macro avg') and (i!='weighted avg')):\n",
        "        for a,b in j.items():\n",
        "            #precision is finded and append it in the list\n",
        "            if(a=='recall'):\n",
        "                c.append((i,a,b))\n",
        "\n",
        "#using pandas dataframe first 3 columns are displayed\n",
        "df=pd.DataFrame(c,columns=['col1','col2','col3'])\n",
        "#sorting is done to find the least recall\n",
        "df_sort=df.sort_values('col3',ascending=True)\n",
        "#displaying the columns\n",
        "df_sort.head()\n",
        "\n"
      ],
      "execution_count": 51,
      "outputs": [
        {
          "output_type": "stream",
          "text": [
            "/usr/local/lib/python3.6/dist-packages/sklearn/metrics/_classification.py:1272: UndefinedMetricWarning: Precision and F-score are ill-defined and being set to 0.0 in labels with no predicted samples. Use `zero_division` parameter to control this behavior.\n",
            "  _warn_prf(average, modifier, msg_start, len(result))\n"
          ],
          "name": "stderr"
        },
        {
          "output_type": "execute_result",
          "data": {
            "text/html": [
              "<div>\n",
              "<style scoped>\n",
              "    .dataframe tbody tr th:only-of-type {\n",
              "        vertical-align: middle;\n",
              "    }\n",
              "\n",
              "    .dataframe tbody tr th {\n",
              "        vertical-align: top;\n",
              "    }\n",
              "\n",
              "    .dataframe thead th {\n",
              "        text-align: right;\n",
              "    }\n",
              "</style>\n",
              "<table border=\"1\" class=\"dataframe\">\n",
              "  <thead>\n",
              "    <tr style=\"text-align: right;\">\n",
              "      <th></th>\n",
              "      <th>col1</th>\n",
              "      <th>col2</th>\n",
              "      <th>col3</th>\n",
              "    </tr>\n",
              "  </thead>\n",
              "  <tbody>\n",
              "    <tr>\n",
              "      <th>22</th>\n",
              "      <td>I-TRAILER</td>\n",
              "      <td>recall</td>\n",
              "      <td>0.000000</td>\n",
              "    </tr>\n",
              "    <tr>\n",
              "      <th>19</th>\n",
              "      <td>I-REVIEW</td>\n",
              "      <td>recall</td>\n",
              "      <td>0.000000</td>\n",
              "    </tr>\n",
              "    <tr>\n",
              "      <th>7</th>\n",
              "      <td>B-REVIEW</td>\n",
              "      <td>recall</td>\n",
              "      <td>0.017857</td>\n",
              "    </tr>\n",
              "    <tr>\n",
              "      <th>8</th>\n",
              "      <td>B-SONG</td>\n",
              "      <td>recall</td>\n",
              "      <td>0.166667</td>\n",
              "    </tr>\n",
              "    <tr>\n",
              "      <th>20</th>\n",
              "      <td>I-SONG</td>\n",
              "      <td>recall</td>\n",
              "      <td>0.218487</td>\n",
              "    </tr>\n",
              "  </tbody>\n",
              "</table>\n",
              "</div>"
            ],
            "text/plain": [
              "         col1    col2      col3\n",
              "22  I-TRAILER  recall  0.000000\n",
              "19   I-REVIEW  recall  0.000000\n",
              "7    B-REVIEW  recall  0.017857\n",
              "8      B-SONG  recall  0.166667\n",
              "20     I-SONG  recall  0.218487"
            ]
          },
          "metadata": {
            "tags": []
          },
          "execution_count": 51
        }
      ]
    },
    {
      "cell_type": "code",
      "metadata": {
        "id": "JITOHBRsEGUm",
        "outputId": "78a03305-ad99-4ccf-97e7-42d7860193c5",
        "colab": {
          "base_uri": "https://localhost:8080/",
          "height": 34
        }
      },
      "source": [
        "#lowest 5 recall is ordered and stored in a list\n",
        "recall = list(df_sort['col1'].head())\n",
        "display(recall)"
      ],
      "execution_count": 52,
      "outputs": [
        {
          "output_type": "display_data",
          "data": {
            "text/plain": [
              "['I-TRAILER', 'I-REVIEW', 'B-REVIEW', 'B-SONG', 'I-SONG']"
            ]
          },
          "metadata": {
            "tags": []
          }
        }
      ]
    },
    {
      "cell_type": "code",
      "metadata": {
        "id": "B8GDdZyou31H",
        "outputId": "76068bc0-eef2-44a6-ac19-83340e7cd105",
        "colab": {
          "base_uri": "https://localhost:8080/"
        }
      },
      "source": [
        "#ERROR ANALYSIS 2 - FALSE NEGATIVES\n",
        "\n",
        "#printing a testing tagger\n",
        "print(\"testing tagger...\")\n",
        "print('False Negatives:')\n",
        "\n",
        "#predicted list\n",
        "preds = []\n",
        "#test list\n",
        "y_test = []\n",
        "\n",
        "#creating loop to find the sent_preds and sent_true\n",
        "for sent in test_data:\n",
        "    #calculating sent_preds\n",
        "    sent_preds = [x[1] for x in ct.tag([s[0] for s in sent])]\n",
        "    #calculating sent_true\n",
        "    sent_true = [s[1] for s in sent]\n",
        "    #extend preds and y_test\n",
        "    preds.extend(sent_preds)\n",
        "    y_test.extend(sent_true)\n",
        "\n",
        "#creating a loop to find the false positives \n",
        "#firsty, create a loop to store predicted list\n",
        "    for i in range(len(sent_preds)):\n",
        "        #sent preds not equal to sent true\n",
        "        if (sent_preds[i] != sent_true[i]):\n",
        "          #create a loop for recall\n",
        "          #import the above finded 5 lowest recall value\n",
        "          for j in recall:\n",
        "            #recall equals sent preds(true list)\n",
        "            if (j==sent_true[i]):\n",
        "              #print false positives\n",
        "              print(sent_true[i],\"[ \",' '.join([s[0] for s in sent]),\"]\")   \n",
        "\n",
        "print(\"done\")  "
      ],
      "execution_count": 56,
      "outputs": [
        {
          "output_type": "stream",
          "text": [
            "testing tagger...\n",
            "False Negatives:\n",
            "B-SONG [  can you get a soundtrac for the harry potter films ]\n",
            "B-REVIEW [  what was the best rated stanley kubrick film ]\n",
            "B-REVIEW [  may i have the highly acclaimed film from 1985 directed by sylvester stallone ]\n",
            "I-REVIEW [  may i have the highly acclaimed film from 1985 directed by sylvester stallone ]\n",
            "B-SONG [  find me the movie that has a aerosmith song ]\n",
            "I-SONG [  find me the movie that has a aerosmith song ]\n",
            "B-SONG [  what is the movie with an aerosmith song ]\n",
            "B-REVIEW [  are there any meg ryan romantic comedy movies that are considered must see ]\n",
            "I-REVIEW [  are there any meg ryan romantic comedy movies that are considered must see ]\n",
            "B-REVIEW [  what was the most popular movie from 2004 ]\n",
            "I-REVIEW [  what was the most popular movie from 2004 ]\n",
            "I-REVIEW [  what was the most popular movie from 2004 ]\n",
            "B-REVIEW [  what movie has the most remakes ]\n",
            "B-SONG [  the song sunshine on my shoulders was the soundtrack for what movie ]\n",
            "I-SONG [  the song sunshine on my shoulders was the soundtrack for what movie ]\n",
            "I-SONG [  the song sunshine on my shoulders was the soundtrack for what movie ]\n",
            "I-SONG [  the song sunshine on my shoulders was the soundtrack for what movie ]\n",
            "B-SONG [  what movie has the song down with the sickness ]\n",
            "I-SONG [  what movie has the song down with the sickness ]\n",
            "I-SONG [  what movie has the song down with the sickness ]\n",
            "I-SONG [  what movie has the song down with the sickness ]\n",
            "B-REVIEW [  what popular films released last month ]\n",
            "B-REVIEW [  are there any films that harmony korine regrets directing andor releasing to the public ]\n",
            "B-REVIEW [  what is the longest running time for a movie in film history ]\n",
            "I-REVIEW [  what is the longest running time for a movie in film history ]\n",
            "I-REVIEW [  what is the longest running time for a movie in film history ]\n",
            "B-REVIEW [  what kind of movie is wanderlust ]\n",
            "B-REVIEW [  any good horror films that came out in 2008 ]\n",
            "B-REVIEW [  which animated childrens movies are considered timeless ]\n",
            "I-REVIEW [  which animated childrens movies are considered timeless ]\n",
            "B-SONG [  find me a movie with the song lets hear it for the boys ]\n",
            "I-SONG [  find me a movie with the song lets hear it for the boys ]\n",
            "I-SONG [  find me a movie with the song lets hear it for the boys ]\n",
            "I-SONG [  find me a movie with the song lets hear it for the boys ]\n",
            "I-SONG [  find me a movie with the song lets hear it for the boys ]\n",
            "I-SONG [  find me a movie with the song lets hear it for the boys ]\n",
            "B-REVIEW [  what are some fun highly rated action movieds ]\n",
            "B-REVIEW [  did people like or hate the last twilight movie ]\n",
            "B-REVIEW [  did people like or hate the last twilight movie ]\n",
            "B-REVIEW [  what are some good horror movies from 1974 ]\n",
            "B-REVIEW [  has john candy made any must see movies ]\n",
            "I-REVIEW [  has john candy made any must see movies ]\n",
            "B-SONG [  find me the movie with the song married life ]\n",
            "I-SONG [  find me the movie with the song married life ]\n",
            "B-REVIEW [  what is a good romance movie with jennifer aniston ]\n",
            "B-SONG [  what movie has seals kiss from a rose in it ]\n",
            "I-SONG [  what movie has seals kiss from a rose in it ]\n",
            "I-SONG [  what movie has seals kiss from a rose in it ]\n",
            "I-SONG [  what movie has seals kiss from a rose in it ]\n",
            "B-REVIEW [  what was the movie of the year in 1994 ]\n",
            "I-REVIEW [  what was the movie of the year in 1994 ]\n",
            "I-REVIEW [  what was the movie of the year in 1994 ]\n",
            "I-REVIEW [  what was the movie of the year in 1994 ]\n",
            "B-SONG [  name the theme song for 2001 a space odyssey ]\n",
            "I-SONG [  name the theme song for 2001 a space odyssey ]\n",
            "I-SONG [  who sang my heart will go on from titanic ]\n",
            "B-SONG [  name the theme song of war horse ]\n",
            "I-SONG [  name the theme song of war horse ]\n",
            "B-REVIEW [  show me which movie won the academy award for best picture in 2009 ]\n",
            "I-REVIEW [  show me which movie won the academy award for best picture in 2009 ]\n",
            "I-REVIEW [  show me which movie won the academy award for best picture in 2009 ]\n",
            "I-REVIEW [  show me which movie won the academy award for best picture in 2009 ]\n",
            "I-REVIEW [  show me which movie won the academy award for best picture in 2009 ]\n",
            "B-REVIEW [  best crome movie from almodovar ]\n",
            "B-REVIEW [  the 100 wrost movies ever ]\n",
            "I-REVIEW [  the 100 wrost movies ever ]\n",
            "I-REVIEW [  the 100 wrost movies ever ]\n",
            "B-SONG [  what film features the theme song there youll be ]\n",
            "B-SONG [  play a song from blow soundtrack ]\n",
            "B-REVIEW [  best action thriller to watch with date ]\n",
            "B-SONG [  what is the movie that has the song zip a dee doo dah ]\n",
            "I-SONG [  what is the movie that has the song zip a dee doo dah ]\n",
            "I-SONG [  what is the movie that has the song zip a dee doo dah ]\n",
            "I-SONG [  what is the movie that has the song zip a dee doo dah ]\n",
            "I-SONG [  what is the movie that has the song zip a dee doo dah ]\n",
            "B-SONG [  name the film that features the song sway by bic runga ]\n",
            "I-SONG [  name the film that features the song sway by bic runga ]\n",
            "I-SONG [  name the film that features the song sway by bic runga ]\n",
            "I-SONG [  name the film that features the song sway by bic runga ]\n",
            "B-REVIEW [  find movies called best action movie of the year ]\n",
            "I-REVIEW [  find movies called best action movie of the year ]\n",
            "I-REVIEW [  find movies called best action movie of the year ]\n",
            "I-REVIEW [  find movies called best action movie of the year ]\n",
            "I-REVIEW [  find movies called best action movie of the year ]\n",
            "I-REVIEW [  find movies called best action movie of the year ]\n",
            "B-REVIEW [  what is a good r rated mystery ]\n",
            "B-REVIEW [  find me a horror movie that fans really loved ]\n",
            "I-REVIEW [  find me a horror movie that fans really loved ]\n",
            "I-REVIEW [  find me a horror movie that fans really loved ]\n",
            "B-SONG [  what movie did alen menken score ]\n",
            "I-SONG [  what movie did alen menken score ]\n",
            "B-SONG [  find movies with the stones songs performed in it ]\n",
            "I-SONG [  find movies with the stones songs performed in it ]\n",
            "B-REVIEW [  whats the highest rated drama of 1990 ]\n",
            "I-REVIEW [  whats the highest rated drama of 1990 ]\n",
            "B-REVIEW [  find me a comedy movie from the past decade that is considered must see ]\n",
            "I-REVIEW [  find me a comedy movie from the past decade that is considered must see ]\n",
            "B-REVIEW [  what funny movie has danny devito in it ]\n",
            "B-SONG [  can you find the soundtrack of the austin powers movies from the 1990s ]\n",
            "B-REVIEW [  what star trek movie had the best action scenes ]\n",
            "I-REVIEW [  what star trek movie had the best action scenes ]\n",
            "I-REVIEW [  what star trek movie had the best action scenes ]\n",
            "B-SONG [  i want to watch a science fiction movie with a score from john williams ]\n",
            "I-SONG [  i want to watch a science fiction movie with a score from john williams ]\n",
            "I-SONG [  i want to watch a science fiction movie with a score from john williams ]\n",
            "I-SONG [  i want to watch a science fiction movie with a score from john williams ]\n",
            "B-SONG [  find me the movie with the song i wanna be sedated ]\n",
            "I-SONG [  find me the movie with the song i wanna be sedated ]\n",
            "I-SONG [  find me the movie with the song i wanna be sedated ]\n",
            "I-SONG [  find me the movie with the song i wanna be sedated ]\n",
            "B-REVIEW [  what is the best movie about sharks ]\n",
            "B-SONG [  did hans zimmer write the music for pirates of the carribean ]\n",
            "I-SONG [  did hans zimmer write the music for pirates of the carribean ]\n",
            "I-SONG [  did hans zimmer write the music for pirates of the carribean ]\n",
            "I-SONG [  did hans zimmer write the music for pirates of the carribean ]\n",
            "B-REVIEW [  whats a mainstream movie about pornos ]\n",
            "B-SONG [  what films use the song bird is the word ]\n",
            "I-SONG [  what films use the song bird is the word ]\n",
            "I-SONG [  what films use the song bird is the word ]\n",
            "I-SONG [  what films use the song bird is the word ]\n",
            "B-REVIEW [  what is a fun action movie ]\n",
            "B-SONG [  find the movie with the song its hard out there for a pimp ]\n",
            "I-SONG [  find the movie with the song its hard out there for a pimp ]\n",
            "I-SONG [  find the movie with the song its hard out there for a pimp ]\n",
            "I-SONG [  find the movie with the song its hard out there for a pimp ]\n",
            "I-SONG [  find the movie with the song its hard out there for a pimp ]\n",
            "I-SONG [  find the movie with the song its hard out there for a pimp ]\n",
            "I-SONG [  find the movie with the song its hard out there for a pimp ]\n",
            "B-REVIEW [  what is the most famous movie about horses ]\n",
            "I-REVIEW [  what is the most famous movie about horses ]\n",
            "B-REVIEW [  list actor matt damons top films ]\n",
            "I-REVIEW [  list actor matt damons top films ]\n",
            "B-REVIEW [  find me a movie suitable for kids ]\n",
            "B-SONG [  did zach braff compose the garden state soundtrack himself ]\n",
            "B-REVIEW [  show me the movie that judy holliday won an oscar for ]\n",
            "B-SONG [  find me a movie with the song a whole new world ]\n",
            "I-SONG [  find me a movie with the song a whole new world ]\n",
            "I-SONG [  find me a movie with the song a whole new world ]\n",
            "I-SONG [  find me a movie with the song a whole new world ]\n",
            "B-REVIEW [  show me the classic western with claudia cardinale and henry fonda ]\n",
            "B-REVIEW [  what are the top 10 science fiction movies of all time ]\n",
            "I-REVIEW [  what are the top 10 science fiction movies of all time ]\n",
            "B-REVIEW [  what are the top 10 science fiction movies of all time ]\n",
            "I-REVIEW [  what are the top 10 science fiction movies of all time ]\n",
            "I-REVIEW [  what are the top 10 science fiction movies of all time ]\n",
            "B-REVIEW [  what are the movies with the best twist endings ]\n",
            "B-SONG [  find a movie with the song for hes a jolly good fellow ]\n",
            "I-SONG [  find a movie with the song for hes a jolly good fellow ]\n",
            "I-SONG [  find a movie with the song for hes a jolly good fellow ]\n",
            "I-SONG [  find a movie with the song for hes a jolly good fellow ]\n",
            "I-SONG [  find a movie with the song for hes a jolly good fellow ]\n",
            "I-SONG [  find a movie with the song for hes a jolly good fellow ]\n",
            "I-TRAILER [  what is the best movie trailer ]\n",
            "I-TRAILER [  what is the best movie trailer ]\n",
            "B-SONG [  what was the hit song from the movie armageddon ]\n",
            "I-SONG [  what was the hit song from the movie armageddon ]\n",
            "B-SONG [  which well received film features the songs come what may and your song ]\n",
            "B-REVIEW [  whats the best song to end a scary movie ]\n",
            "I-REVIEW [  whats the best song to end a scary movie ]\n",
            "B-SONG [  what movie used the song the good ship lollipop ]\n",
            "I-SONG [  what movie used the song the good ship lollipop ]\n",
            "I-SONG [  what movie used the song the good ship lollipop ]\n",
            "I-SONG [  what movie used the song the good ship lollipop ]\n",
            "B-SONG [  show me a movie with the song making christmas ]\n",
            "I-SONG [  show me a movie with the song making christmas ]\n",
            "B-SONG [  did thomas newman compose the soundtrack for edward scissorhands ]\n",
            "B-SONG [  find me a film with the song under the sea ]\n",
            "I-SONG [  find me a film with the song under the sea ]\n",
            "I-SONG [  find me a film with the song under the sea ]\n",
            "B-REVIEW [  what movie won the most awards ]\n",
            "B-SONG [  name the theme song for teen wolf ]\n",
            "I-SONG [  name the theme song for teen wolf ]\n",
            "B-SONG [  who is doing the soundtrack for prometheus ]\n",
            "I-SONG [  who is doing the soundtrack for prometheus ]\n",
            "I-SONG [  who is doing the soundtrack for prometheus ]\n",
            "I-SONG [  who is doing the soundtrack for prometheus ]\n",
            "I-SONG [  who is doing the soundtrack for prometheus ]\n",
            "I-SONG [  who is doing the soundtrack for prometheus ]\n",
            "I-SONG [  who is doing the soundtrack for prometheus ]\n",
            "B-REVIEW [  did christopher nolan direct any highly regarded action films ]\n",
            "I-REVIEW [  did christopher nolan direct any highly regarded action films ]\n",
            "B-SONG [  what movie has all eddie vedder songs in it ]\n",
            "I-SONG [  what movie has all eddie vedder songs in it ]\n",
            "I-SONG [  what movie has all eddie vedder songs in it ]\n",
            "B-REVIEW [  best jim carrey quotes ]\n",
            "B-REVIEW [  what are some good animated films ]\n",
            "B-REVIEW [  tell me the top ten romance movies of all time ]\n",
            "I-REVIEW [  tell me the top ten romance movies of all time ]\n",
            "B-SONG [  whats the name of that movie with the song missing you ]\n",
            "I-SONG [  whats the name of that movie with the song missing you ]\n",
            "B-SONG [  i want to find the movies with music by the bee gees ]\n",
            "I-SONG [  i want to find the movies with music by the bee gees ]\n",
            "I-SONG [  i want to find the movies with music by the bee gees ]\n",
            "I-SONG [  i want to find the movies with music by the bee gees ]\n",
            "I-SONG [  i want to find the movies with music by the bee gees ]\n",
            "B-SONG [  what film had the song the power of love ]\n",
            "I-SONG [  what film had the song the power of love ]\n",
            "I-SONG [  what film had the song the power of love ]\n",
            "I-SONG [  what film had the song the power of love ]\n",
            "B-REVIEW [  looking for the controversial mel gibson film about jesus ]\n",
            "B-SONG [  what david fincher movie had a soundtrack by the dust brothers ]\n",
            "B-REVIEW [  how many people actually like to review boring movies ]\n",
            "I-REVIEW [  how many people actually like to review boring movies ]\n",
            "I-REVIEW [  how many people actually like to review boring movies ]\n",
            "I-REVIEW [  how many people actually like to review boring movies ]\n",
            "I-REVIEW [  how many people actually like to review boring movies ]\n",
            "I-REVIEW [  how many people actually like to review boring movies ]\n",
            "I-REVIEW [  how many people actually like to review boring movies ]\n",
            "I-REVIEW [  how many people actually like to review boring movies ]\n",
            "I-REVIEW [  how many people actually like to review boring movies ]\n",
            "I-TRAILER [  find a trailer for chariots of fire ]\n",
            "I-TRAILER [  find a trailer for chariots of fire ]\n",
            "I-TRAILER [  find a trailer for chariots of fire ]\n",
            "I-TRAILER [  find a trailer for chariots of fire ]\n",
            "I-TRAILER [  find a trailer for chariots of fire ]\n",
            "I-TRAILER [  find a trailer for chariots of fire ]\n",
            "B-REVIEW [  did critics rate any of the alien movies as must see ]\n",
            "I-REVIEW [  did critics rate any of the alien movies as must see ]\n",
            "B-SONG [  find the 1990s movie with a disco soundtrack about a male porn star ]\n",
            "I-SONG [  find the 1990s movie with a disco soundtrack about a male porn star ]\n",
            "B-SONG [  what film features the song kiss from a rose by seal ]\n",
            "I-SONG [  what film features the song kiss from a rose by seal ]\n",
            "I-SONG [  what film features the song kiss from a rose by seal ]\n",
            "I-SONG [  what film features the song kiss from a rose by seal ]\n",
            "B-SONG [  what films use the song zippity do da ]\n",
            "I-SONG [  what films use the song zippity do da ]\n",
            "I-SONG [  what films use the song zippity do da ]\n",
            "B-SONG [  help me find a movie with the song when you really love a woman ]\n",
            "I-SONG [  help me find a movie with the song when you really love a woman ]\n",
            "I-SONG [  help me find a movie with the song when you really love a woman ]\n",
            "I-SONG [  help me find a movie with the song when you really love a woman ]\n",
            "I-SONG [  help me find a movie with the song when you really love a woman ]\n",
            "I-SONG [  help me find a movie with the song when you really love a woman ]\n",
            "B-SONG [  the song hold on by 90s band wilson phillips is used in which film soundtracks ]\n",
            "I-SONG [  the song hold on by 90s band wilson phillips is used in which film soundtracks ]\n",
            "B-SONG [  the song hold on by 90s band wilson phillips is used in which film soundtracks ]\n",
            "I-SONG [  the song hold on by 90s band wilson phillips is used in which film soundtracks ]\n",
            "B-REVIEW [  i would like to get the details of the movie purple rain on imdb com ]\n",
            "B-REVIEW [  show blogs regarding evita ]\n",
            "B-REVIEW [  could you please show me a website with reviews of indiana jones ]\n",
            "B-REVIEW [  could you send me to a website with user reviews of willy wonka the chocolate factory ]\n",
            "B-REVIEW [  what do you think the best part of a hard day s night was ]\n",
            "B-SONG [  what movie did the song come what may play in ]\n",
            "I-SONG [  what movie did the song come what may play in ]\n",
            "I-SONG [  what movie did the song come what may play in ]\n",
            "B-REVIEW [  show me the good thief review ]\n",
            "done\n"
          ],
          "name": "stdout"
        }
      ]
    },
    {
      "cell_type": "code",
      "metadata": {
        "id": "uEAqzdR2ZPMF"
      },
      "source": [
        "def confusion_matrix_heatmap(y_test, preds):\n",
        "    \"\"\"Function to plot a confusion matrix\"\"\"\n",
        "    labels = list(set(y_test))   # get the labels in the y_test\n",
        "    # print(labels)\n",
        "    cm = confusion_matrix(y_test, preds, labels)\n",
        "    fig = plt.figure(figsize=(20,20))\n",
        "    ax = fig.add_subplot(111)\n",
        "    cax = ax.matshow(cm)\n",
        "    plt.title('Confusion matrix of the classifier')\n",
        "    fig.colorbar(cax)\n",
        "    ax.set_xticks(np.arange(len(labels)))\n",
        "    ax.set_yticks(np.arange(len(labels)))\n",
        "    ax.set_xticklabels( labels, rotation=45)\n",
        "    ax.set_yticklabels( labels)\n",
        "\n",
        "    for i in range(len(cm)):\n",
        "        for j in range(len(cm)):\n",
        "            text = ax.text(j, i, cm[i, j],\n",
        "                           ha=\"center\", va=\"center\", color=\"w\")\n",
        "\n",
        "    plt.xlabel('Predicted')\n",
        "    plt.ylabel('True')\n",
        "    #fig.tight_layout()\n",
        "    plt.show()"
      ],
      "execution_count": 54,
      "outputs": []
    },
    {
      "cell_type": "code",
      "metadata": {
        "id": "klM6WDzwZU05",
        "outputId": "4f6dd7fb-220a-4a72-92a6-8606643e5551",
        "colab": {
          "base_uri": "https://localhost:8080/",
          "height": 970
        }
      },
      "source": [
        "confusion_matrix_heatmap(y_test, preds)"
      ],
      "execution_count": 55,
      "outputs": [
        {
          "output_type": "display_data",
          "data": {
            "image/png": "[encoded data removed]",
            "text/plain": [
              "<Figure size 1440x1440 with 2 Axes>"
            ]
          },
          "metadata": {
            "tags": [],
            "needs_background": "light"
          }
        }
      ]
    }
  ]
}